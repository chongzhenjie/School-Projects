{
 "cells": [
  {
   "cell_type": "markdown",
   "id": "cd2a9947",
   "metadata": {},
   "source": [
    "# Chong Zhen Jie A0201613Y\n",
    "---\n",
    "# Assignment Question 3: Compressed Sensing"
   ]
  },
  {
   "cell_type": "code",
   "execution_count": 1,
   "id": "f5362a26",
   "metadata": {},
   "outputs": [],
   "source": [
    "import cvxpy as cp\n",
    "import numpy as np\n",
    "import matplotlib.pyplot as plt\n",
    "import seaborn as sns\n",
    "from tqdm import tqdm"
   ]
  },
  {
   "cell_type": "code",
   "execution_count": 2,
   "id": "3fcef1c8",
   "metadata": {},
   "outputs": [],
   "source": [
    "sns.set_theme(style=\"ticks\", font_scale=1.5)\n",
    "SEED = 5232"
   ]
  },
  {
   "cell_type": "markdown",
   "id": "f923ba7b",
   "metadata": {},
   "source": [
    "### 3(i) Generating random matrix $A\\in\\mathbb{R}^{m\\times n}$ and random sparse vector $x^*\\in\\mathbb{R}^n$"
   ]
  },
  {
   "cell_type": "code",
   "execution_count": 3,
   "id": "24e37214",
   "metadata": {},
   "outputs": [],
   "source": [
    "n = 50\n",
    "\n",
    "# Range of values for m and s\n",
    "idx = range(1,51)\n",
    "\n",
    "# Define function to create sparse vector\n",
    "def create_sx(s, n=n):\n",
    "    \"\"\"\n",
    "    Args:\n",
    "    ===\n",
    "    s: Sparsity, or number of non-zero entries\n",
    "    n: Size of sparse vector\n",
    "    \n",
    "    Output:\n",
    "    ===\n",
    "    Return a sparse vector of size n, with sparsity s.\n",
    "    \"\"\"\n",
    "    # Percent of non-zero entries\n",
    "    percent = (s / n) * 100\n",
    "    \n",
    "    # Create Boolean mask\n",
    "    rand = np.random.rand(n)\n",
    "    mask = rand <= np.percentile(rand, percent)\n",
    "    \n",
    "    # Initialize zero vector\n",
    "    sx = np.zeros(n)\n",
    "    \n",
    "    # Fill in entries based on index randomly generated\n",
    "    sx[mask] = 1\n",
    "    \n",
    "    return sx"
   ]
  },
  {
   "cell_type": "code",
   "execution_count": 4,
   "id": "a7f232cb",
   "metadata": {
    "scrolled": false
   },
   "outputs": [
    {
     "data": {
      "text/plain": [
       "(50, 50)"
      ]
     },
     "execution_count": 4,
     "metadata": {},
     "output_type": "execute_result"
    }
   ],
   "source": [
    "# Random matrix A\n",
    "np.random.standard_normal(size=(idx[-1],n)).shape"
   ]
  },
  {
   "cell_type": "code",
   "execution_count": 5,
   "id": "e1d3ec1d",
   "metadata": {
    "scrolled": true
   },
   "outputs": [
    {
     "data": {
      "text/plain": [
       "array([0., 0., 0., 0., 0., 0., 0., 0., 0., 0., 0., 0., 0., 0., 0., 0., 0.,\n",
       "       0., 0., 0., 0., 0., 0., 0., 0., 0., 1., 0., 0., 0., 0., 0., 0., 0.,\n",
       "       1., 0., 0., 0., 1., 0., 0., 0., 0., 0., 0., 0., 0., 0., 0., 0.])"
      ]
     },
     "execution_count": 5,
     "metadata": {},
     "output_type": "execute_result"
    }
   ],
   "source": [
    "# Random sparse vector\n",
    "create_sx(idx[2])"
   ]
  },
  {
   "cell_type": "markdown",
   "id": "193e23b0",
   "metadata": {},
   "source": [
    "### 3(iii) Defining error tolerance"
   ]
  },
  {
   "cell_type": "code",
   "execution_count": 6,
   "id": "4cd0065c",
   "metadata": {},
   "outputs": [],
   "source": [
    "# Define function to check for success\n",
    "def success(sx, soln, TOL=1e-4):\n",
    "    \"\"\"\n",
    "    Args:\n",
    "    ===\n",
    "    sx: Sparse vector\n",
    "    soln: Optimal solution x\n",
    "    TOL: Tolerance level\n",
    "    \n",
    "    Output:\n",
    "    ===\n",
    "    Return True if relative error is within tolerance level, otherwise return False.\n",
    "    \"\"\"\n",
    "    # Relative error under L2-norm\n",
    "    err = np.linalg.norm(soln-sx) / np.linalg.norm(sx)\n",
    "    \n",
    "    return err <= TOL"
   ]
  },
  {
   "cell_type": "markdown",
   "id": "fb91a969",
   "metadata": {},
   "source": [
    "### 3(iv) Solving the problem"
   ]
  },
  {
   "cell_type": "markdown",
   "id": "3e85e1bf",
   "metadata": {},
   "source": [
    "##### Run solver"
   ]
  },
  {
   "cell_type": "code",
   "execution_count": 7,
   "id": "0986fda0",
   "metadata": {},
   "outputs": [],
   "source": [
    "# Define function for solver\n",
    "def solver(A, y):\n",
    "    \"\"\"\n",
    "    Args:\n",
    "    ===\n",
    "    A: Random matrix A\n",
    "    y: Matrix multiplication of random matrix A and sparse vector sx\n",
    "    \n",
    "    Output:\n",
    "    ===\n",
    "    Return optimal solution x.\n",
    "    \"\"\"\n",
    "    # Construct problem and run solver\n",
    "    x = cp.Variable(shape=n)\n",
    "    objective = cp.Minimize(cp.norm(x,1))\n",
    "    constraints = [y == A@x]\n",
    "    problem = cp.Problem(objective, constraints)\n",
    "    problem.solve()\n",
    "    \n",
    "    # Retrieve optimal solution x\n",
    "    soln = x.value\n",
    "    \n",
    "    return soln"
   ]
  },
  {
   "cell_type": "code",
   "execution_count": 8,
   "id": "5b8f85d5",
   "metadata": {
    "scrolled": false
   },
   "outputs": [],
   "source": [
    "# Define function to run solver for all values of m and s\n",
    "def run_solver(solver=solver, create_sx=create_sx, n=n, niter=10, idx=idx):\n",
    "    \"\"\"\n",
    "    Args:\n",
    "    ===\n",
    "    solver: Function for solver\n",
    "    create_sx: Function to create sparse vector\n",
    "    n: Fixed parameter\n",
    "    niter: Number of iterations for each pair of m and s\n",
    "    idx: Range of values for m and s\n",
    "    \n",
    "    Output:\n",
    "    ===\n",
    "    Return matrix recording the successes for each pair of m and s.\n",
    "    \"\"\"\n",
    "    # Initialize matrix to record success for each pair of m and s\n",
    "    success_mat = np.zeros(shape=(n,n))\n",
    "    \n",
    "    for m in tqdm(idx, desc=\"Progress bar\"):\n",
    "        for s in idx:\n",
    "            for _ in range(niter):\n",
    "                # Initialize parameters for solver\n",
    "                sx = create_sx(s)\n",
    "                A = np.random.standard_normal(size=(m,n))\n",
    "                y = A @ sx\n",
    "                \n",
    "                # Run solver\n",
    "                soln = solver(A,y)\n",
    "                \n",
    "                # Record success\n",
    "                success_mat[m-1, s-1] += success(sx, soln)\n",
    "                \n",
    "    return success_mat"
   ]
  },
  {
   "cell_type": "code",
   "execution_count": 9,
   "id": "5b34fd4a",
   "metadata": {},
   "outputs": [
    {
     "name": "stderr",
     "output_type": "stream",
     "text": [
      "Progress bar: 100%|████████████████████████████████████████████████████████████████████| 50/50 [02:55<00:00,  3.51s/it]\n"
     ]
    }
   ],
   "source": [
    "###############################\n",
    "### Around 3 minutes to run ###\n",
    "###############################\n",
    "\n",
    "# Run solver for all values of m and s\n",
    "np.random.seed(SEED)\n",
    "success_mat = run_solver()"
   ]
  },
  {
   "cell_type": "markdown",
   "id": "b63bbac3",
   "metadata": {},
   "source": [
    "##### Results"
   ]
  },
  {
   "cell_type": "code",
   "execution_count": 10,
   "id": "f5ef8b48",
   "metadata": {},
   "outputs": [
    {
     "name": "stdout",
     "output_type": "stream",
     "text": [
      "Across all pairs of m and s, we have an average of 2.726 successes out of the 10 trials.\n"
     ]
    }
   ],
   "source": [
    "# Average across all pairs of m and s\n",
    "avg_success = np.mean(success_mat)\n",
    "\n",
    "print(f\"Across all pairs of m and s, we have an average of {avg_success} successes out of the 10 trials.\")"
   ]
  },
  {
   "cell_type": "code",
   "execution_count": 11,
   "id": "01907ebb",
   "metadata": {},
   "outputs": [
    {
     "data": {
      "image/png": "[encoded data removed]",
      "text/plain": [
       "<Figure size 432x288 with 1 Axes>"
      ]
     },
     "metadata": {},
     "output_type": "display_data"
    }
   ],
   "source": [
    "# Plot grayscale image of success matrix\n",
    "plt.imshow(success_mat, cmap=\"gray\", origin=\"lower\")\n",
    "# Plot 45-degree reference line\n",
    "plt.plot([1,n-2], [1,n-2], ls=\"--\", c=\"r\", lw=4)\n",
    "\n",
    "plt.xlabel(\"$s$\")\n",
    "plt.xticks([i*10 for i in range(1,5)])\n",
    "plt.ylabel(\"$m$\", rotation=\"horizontal\", labelpad=15)\n",
    "plt.title(\"Success matrix\")\n",
    "\n",
    "plt.show()"
   ]
  },
  {
   "cell_type": "markdown",
   "id": "9b33a008",
   "metadata": {},
   "source": [
    "---"
   ]
  }
 ],
 "metadata": {
  "kernelspec": {
   "display_name": "Python 3",
   "language": "python",
   "name": "python3"
  },
  "language_info": {
   "codemirror_mode": {
    "name": "ipython",
    "version": 3
   },
   "file_extension": ".py",
   "mimetype": "text/x-python",
   "name": "python",
   "nbconvert_exporter": "python",
   "pygments_lexer": "ipython3",
   "version": "3.8.8"
  }
 },
 "nbformat": 4,
 "nbformat_minor": 5
}
